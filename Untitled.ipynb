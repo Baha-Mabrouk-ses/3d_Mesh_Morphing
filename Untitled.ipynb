{
 "cells": [
  {
   "cell_type": "code",
   "execution_count": 3,
   "id": "5f7ec9cc-4aff-4746-8df5-a04d8bf4a4be",
   "metadata": {},
   "outputs": [
    {
     "ename": "ValueError",
     "evalue": "The points in dimension 0 must be strictly ascending or descending",
     "output_type": "error",
     "traceback": [
      "\u001b[1;31m---------------------------------------------------------------------------\u001b[0m",
      "\u001b[1;31mValueError\u001b[0m                                Traceback (most recent call last)",
      "Cell \u001b[1;32mIn[3], line 18\u001b[0m\n\u001b[0;32m     15\u001b[0m new_points \u001b[38;5;241m=\u001b[39m new_points[np\u001b[38;5;241m.\u001b[39margsort(new_points[:, \u001b[38;5;241m0\u001b[39m])]\n\u001b[0;32m     17\u001b[0m \u001b[38;5;66;03m# Interpolate the vector field at the new points\u001b[39;00m\n\u001b[1;32m---> 18\u001b[0m u_int_f \u001b[38;5;241m=\u001b[39m \u001b[43mRegularGridInterpolator\u001b[49m\u001b[43m(\u001b[49m\u001b[43m(\u001b[49m\u001b[43mxx\u001b[49m\u001b[38;5;241;43m.\u001b[39;49m\u001b[43mravel\u001b[49m\u001b[43m(\u001b[49m\u001b[43m)\u001b[49m\u001b[43m,\u001b[49m\u001b[43m \u001b[49m\u001b[43myy\u001b[49m\u001b[38;5;241;43m.\u001b[39;49m\u001b[43mravel\u001b[49m\u001b[43m(\u001b[49m\u001b[43m)\u001b[49m\u001b[43m,\u001b[49m\u001b[43m \u001b[49m\u001b[43mzz\u001b[49m\u001b[38;5;241;43m.\u001b[39;49m\u001b[43mravel\u001b[49m\u001b[43m(\u001b[49m\u001b[43m)\u001b[49m\u001b[43m)\u001b[49m\u001b[43m,\u001b[49m\u001b[43m \u001b[49m\u001b[43muu\u001b[49m\u001b[38;5;241;43m.\u001b[39;49m\u001b[43mravel\u001b[49m\u001b[43m(\u001b[49m\u001b[43m)\u001b[49m\u001b[43m)\u001b[49m\n\u001b[0;32m     19\u001b[0m v_int_f \u001b[38;5;241m=\u001b[39m RegularGridInterpolator((xx\u001b[38;5;241m.\u001b[39mravel(), yy\u001b[38;5;241m.\u001b[39mravel(), zz\u001b[38;5;241m.\u001b[39mravel()), vv\u001b[38;5;241m.\u001b[39mravel())\n\u001b[0;32m     20\u001b[0m w_int_f \u001b[38;5;241m=\u001b[39m RegularGridInterpolator((xx\u001b[38;5;241m.\u001b[39mravel(), yy\u001b[38;5;241m.\u001b[39mravel(), zz\u001b[38;5;241m.\u001b[39mravel()), ww\u001b[38;5;241m.\u001b[39mravel())\n",
      "File \u001b[1;32m~\\.conda\\envs\\PDS_Env\\Lib\\site-packages\\scipy\\interpolate\\_rgi.py:240\u001b[0m, in \u001b[0;36mRegularGridInterpolator.__init__\u001b[1;34m(self, points, values, method, bounds_error, fill_value)\u001b[0m\n\u001b[0;32m    238\u001b[0m \u001b[38;5;28mself\u001b[39m\u001b[38;5;241m.\u001b[39mmethod \u001b[38;5;241m=\u001b[39m method\n\u001b[0;32m    239\u001b[0m \u001b[38;5;28mself\u001b[39m\u001b[38;5;241m.\u001b[39mbounds_error \u001b[38;5;241m=\u001b[39m bounds_error\n\u001b[1;32m--> 240\u001b[0m \u001b[38;5;28mself\u001b[39m\u001b[38;5;241m.\u001b[39mgrid, \u001b[38;5;28mself\u001b[39m\u001b[38;5;241m.\u001b[39m_descending_dimensions \u001b[38;5;241m=\u001b[39m \u001b[43m_check_points\u001b[49m\u001b[43m(\u001b[49m\u001b[43mpoints\u001b[49m\u001b[43m)\u001b[49m\n\u001b[0;32m    241\u001b[0m \u001b[38;5;28mself\u001b[39m\u001b[38;5;241m.\u001b[39mvalues \u001b[38;5;241m=\u001b[39m \u001b[38;5;28mself\u001b[39m\u001b[38;5;241m.\u001b[39m_check_values(values)\n\u001b[0;32m    242\u001b[0m \u001b[38;5;28mself\u001b[39m\u001b[38;5;241m.\u001b[39m_check_dimensionality(\u001b[38;5;28mself\u001b[39m\u001b[38;5;241m.\u001b[39mgrid, \u001b[38;5;28mself\u001b[39m\u001b[38;5;241m.\u001b[39mvalues)\n",
      "File \u001b[1;32m~\\.conda\\envs\\PDS_Env\\Lib\\site-packages\\scipy\\interpolate\\_rgi.py:27\u001b[0m, in \u001b[0;36m_check_points\u001b[1;34m(points)\u001b[0m\n\u001b[0;32m     25\u001b[0m         p \u001b[38;5;241m=\u001b[39m np\u001b[38;5;241m.\u001b[39mflip(p)\n\u001b[0;32m     26\u001b[0m     \u001b[38;5;28;01melse\u001b[39;00m:\n\u001b[1;32m---> 27\u001b[0m         \u001b[38;5;28;01mraise\u001b[39;00m \u001b[38;5;167;01mValueError\u001b[39;00m(\n\u001b[0;32m     28\u001b[0m             \u001b[38;5;124m\"\u001b[39m\u001b[38;5;124mThe points in dimension \u001b[39m\u001b[38;5;132;01m%d\u001b[39;00m\u001b[38;5;124m must be strictly \u001b[39m\u001b[38;5;124m\"\u001b[39m\n\u001b[0;32m     29\u001b[0m             \u001b[38;5;124m\"\u001b[39m\u001b[38;5;124mascending or descending\u001b[39m\u001b[38;5;124m\"\u001b[39m \u001b[38;5;241m%\u001b[39m i)\n\u001b[0;32m     30\u001b[0m \u001b[38;5;66;03m# see https://github.com/scipy/scipy/issues/17716\u001b[39;00m\n\u001b[0;32m     31\u001b[0m p \u001b[38;5;241m=\u001b[39m np\u001b[38;5;241m.\u001b[39mascontiguousarray(p)\n",
      "\u001b[1;31mValueError\u001b[0m: The points in dimension 0 must be strictly ascending or descending"
     ]
    }
   ],
   "source": [
    "import numpy as np\n",
    "from scipy.interpolate import RegularGridInterpolator\n",
    "\n",
    "# Define the original vector field\n",
    "xx, yy, zz = np.meshgrid(np.arange(-0.8, 1, 0.2), np.arange(-0.8, 1, 0.2), np.arange(-0.8, 1, 0.8))\n",
    "uu = np.sin(np.pi * xx) * np.cos(np.pi * yy) * np.cos(np.pi * zz)\n",
    "vv = -np.cos(np.pi * xx) * np.sin(np.pi * yy) * np.cos(np.pi * zz)\n",
    "ww = (np.sqrt(2.0 / 3.0) * np.cos(np.pi * xx) * np.cos(np.pi * yy) * np.sin(np.pi * zz))\n",
    "\n",
    "# Define the new points to interpolate at\n",
    "new_grid = np.meshgrid(np.linspace(np.min(xx), np.max(xx), 20), np.linspace(np.min(yy), np.max(yy), 20), np.linspace(np.min(zz), np.max(zz), 3), indexing=\"xy\")\n",
    "new_points = np.vstack(list(map(np.ravel, new_grid))).T\n",
    "\n",
    "# Sort the points along the first dimension\n",
    "new_points = new_points[np.argsort(new_points[:, 0])]\n",
    "\n",
    "# Interpolate the vector field at the new points\n",
    "u_int_f = RegularGridInterpolator((xx.ravel(), yy.ravel(), zz.ravel()), uu.ravel())\n",
    "v_int_f = RegularGridInterpolator((xx.ravel(), yy.ravel(), zz.ravel()), vv.ravel())\n",
    "w_int_f = RegularGridInterpolator((xx.ravel(), yy.ravel(), zz.ravel()), ww.ravel())\n",
    "u_int = u_int_f(new_points)\n",
    "v_int = v_int_f(new_points)\n",
    "w_int = w_int_f(new_points)\n",
    "\n",
    "# Plot the interpolated vector field\n",
    "import matplotlib.pyplot as plt\n",
    "from mpl_toolkits.mplot3d import Axes3D\n",
    "\n",
    "fig = plt.figure()\n",
    "ax = fig.add_subplot(111, projection='3d')\n",
    "ax.quiver(new_points[:, 0], new_points[:, 1], new_points[:, 2], u_int, v_int, w_int, length=0.1)\n",
    "plt.show()\n"
   ]
  },
  {
   "cell_type": "code",
   "execution_count": null,
   "id": "c1ea077d-9c7d-405e-938b-74ec76e69041",
   "metadata": {},
   "outputs": [],
   "source": []
  }
 ],
 "metadata": {
  "kernelspec": {
   "display_name": "Python 3 (ipykernel)",
   "language": "python",
   "name": "python3"
  },
  "language_info": {
   "codemirror_mode": {
    "name": "ipython",
    "version": 3
   },
   "file_extension": ".py",
   "mimetype": "text/x-python",
   "name": "python",
   "nbconvert_exporter": "python",
   "pygments_lexer": "ipython3",
   "version": "3.11.7"
  }
 },
 "nbformat": 4,
 "nbformat_minor": 5
}
